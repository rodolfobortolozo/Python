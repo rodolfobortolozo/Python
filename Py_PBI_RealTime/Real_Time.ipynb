{
 "cells": [
  {
   "cell_type": "code",
   "execution_count": null,
   "metadata": {},
   "outputs": [],
   "source": [
    "import requests \n",
    "import time\n",
    "import cx_Oracle\n",
    "import pandas as pd\n",
    "import warnings \n",
    "import os\n",
    "\n",
    "warnings.filterwarnings('ignore')\n",
    "\n",
    "PowerBI_REST_API_URL = \"\"\"https://api.powerbi.com/beta/474206c0-c77a-4368-9525-5e6d800cfa47/datasets/99cbcbae-a866-43b5-adcf-92ee9c5a8d62/rows?key=o8v%2F%2Bfnl80EAyhpIvv8h0t9flL2lQeNzL9iVownyV5nWEjtHWocByC%2FP3mlvSo5OvbmhItUlfSX1Wz%2Fn1RZ0cw%3D%3D\"\"\"\n",
    "\n",
    "print('Conectando ao Oracle...')\n",
    "try:   \n",
    "    conn = cx_Oracle.connect(user='###',\n",
    "                             password = '###',\n",
    "                            dsn = 'RODOLFO',\n",
    "                            encoding=\"UTF-8\")\n",
    "    print('Conectado ao Oracle...!\\n\\n')\n",
    "except cx_Oracle.Error as error:\n",
    "    print('Erro ao conectar ao Oracle ERRO: {} '.format(error))"
   ]
  },
  {
   "cell_type": "code",
   "execution_count": null,
   "metadata": {},
   "outputs": [],
   "source": [
    "def data_generation():\n",
    "    # get your SQL data and save it into 2 variables (row by row)\n",
    "    sql = \"\"\"SELECT SeqOrder, Name, Location FROM Orders\n",
    "        \"\"\"\n",
    "    df = pd.read_sql(sql,conn) \n",
    "     \n",
    "    return df   "
   ]
  },
  {
   "cell_type": "code",
   "execution_count": null,
   "metadata": {},
   "outputs": [],
   "source": [
    "inicio =0\n",
    "fim = 10\n",
    "inicio_lista = 0\n",
    "fim_lista = fim\n",
    "\n",
    "while True:\n",
    "    for i in range(inicio, fim):\n",
    "        \n",
    "        req = requests.post(PowerBI_REST_API_URL, data = data_generation()[inicio_lista:fim_lista].to_json(orient='records'), headers={\"Content-Type\":\"application/json\"})\n",
    "        \n",
    "        if req.status_code == 200:\n",
    "            print('Informação enviada ao Power BI.')\n",
    "        else:\n",
    "            print('Erro ao processar dados no Power BI.')\n",
    "\n",
    "            print(data_generation()[inicio_lista:fim_lista].to_json(orient='records'))\n",
    "\n",
    "        time.sleep(2)\n",
    "        inicio_lista = fim\n",
    "        fim_lista += fim"
   ]
  }
 ],
 "metadata": {
  "interpreter": {
   "hash": "9efce205f64ad363cd9f14615485aca38ee4ef0915866e318aa83c8d0c93f6fc"
  },
  "kernelspec": {
   "display_name": "Python 3.10.3 64-bit",
   "language": "python",
   "name": "python3"
  },
  "language_info": {
   "codemirror_mode": {
    "name": "ipython",
    "version": 3
   },
   "file_extension": ".py",
   "mimetype": "text/x-python",
   "name": "python",
   "nbconvert_exporter": "python",
   "pygments_lexer": "ipython3",
   "version": "3.10.3"
  },
  "orig_nbformat": 4
 },
 "nbformat": 4,
 "nbformat_minor": 2
}
